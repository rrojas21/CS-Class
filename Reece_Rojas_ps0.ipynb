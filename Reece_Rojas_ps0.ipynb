{
  "cells": [
    {
      "cell_type": "markdown",
      "metadata": {
        "id": "view-in-github"
      },
      "source": [
        "<a href=\"https://colab.research.google.com/github/LMU-CMSI-1010/ps0/blob/main/ps0.ipynb\" target=\"_parent\"><img src=\"https://colab.research.google.com/assets/colab-badge.svg\" alt=\"Open In Colab\"/></a>"
      ]
    },
    {
      "cell_type": "markdown",
      "metadata": {
        "id": "u0E5Spout_ER"
      },
      "source": [
        "# Problem Set 0\n",
        "#### CMSI 1010: Computer Programming and Lab"
      ]
    },
    {
      "cell_type": "markdown",
      "metadata": {
        "id": "ea7_Mc8Kt_EV"
      },
      "source": [
        "## Important Dates\n",
        "\n",
        " - Released: 2023-01-12 at 12:00 am [PT]\n",
        " - Deadline: 2023-01-24 at 11:59 pm [PT]"
      ]
    },
    {
      "cell_type": "markdown",
      "metadata": {
        "id": "lWoec-sit_EV"
      },
      "source": [
        "## Learning Objectives\n",
        "\n",
        "Students will practice (1) writing a program in a text editor, (2) using comments to document the program, (3) writing Python in the web using Glitch, and (4) using Python commands manipulate strings and variables. Students may collaborate by talking to each other or helping each other, but the final submission _must be individual_, and collaborators must be credited."
      ]
    },
    {
      "cell_type": "markdown",
      "metadata": {
        "id": "9RFv4WEEt_EW"
      },
      "source": [
        "# Question 1: Reading Notes\n",
        "* Chapter 1 in the _Think Python_ textbook: http://greenteapress.com/thinkpython2/thinkpython2.pdf\n",
        "* Dr. Ray Toal's CMSI notes:\n",
        "    * Computing: https://cs.lmu.edu/~ray/notes/computing/\n",
        "    * Computer Science: https://cs.lmu.edu/~ray/notes/computerscience/"
      ]
    },
    {
      "cell_type": "markdown",
      "metadata": {
        "id": "048rXiD-t_EW"
      },
      "source": [
        "Once you have studied the reading notes, write a summary in the text cell below."
      ]
    },
    {
      "cell_type": "markdown",
      "metadata": {
        "id": "LIBiVl1Ft_EX"
      },
      "source": [
        "--Type your notes here--\n",
        "\n",
        "* thinking like a computer scientist\n",
        "    * goal is to teach problem-solving skills, combining mathematics, engineering, and natural science\n",
        "    * problem-solving is the most important skill for a computer scientist\n",
        "    * learning to program is an excellent opportunity to practice problem-solving skills\n",
        "* what is a program\n",
        "    * program is a sequence of instructions that specifies how to perform a computation\n",
        "    * computation can be mathematical, symbolic, or graphical\n",
        "    * basic instructions include input, output, math operations, conditional execution, and repetition\n",
        "* running Python\n",
        "    * Python introduced as the programming language for the book\n",
        "    * installation can be challenging, so initially, recommended to run Python in a browser\n",
        "    * two versions of Python: Python 2 and Python 3. Focus is on Python 3\n",
        "* the first program\n",
        "    * traditionally, the first program is \"Hello, World!\" to introduce the print statement\n",
        "    * Python 3 uses print('Hello, World!'), while Python 2 uses print 'Hello, World!'\n",
        "* arithmetic operators\n",
        "    * basic arithmetic operators include +, -, *, /, and ** for addition, subtraction, multiplication, division, and exponentiation, respectively\n",
        "* values and types\n",
        "    * values are basic elements like numbers or strings, belonging to different types, such as int, float, and str\n",
        "    * interpreter can determine the type of a value using the type() function\n",
        "* formal and natural languages\n",
        "    * formal languages, like programming languages, have strict syntax rules governing structure\n",
        "    * formal languages aim for unambiguous and literal meanings, unlike the ambiguity and metaphor often found in natural languages\n",
        "* debugging\n",
        "    * debugging is the process of finding and correcting errors (bugs) in a program\n",
        "    * strong emotions may arise during debugging, so it's essential to approach it with a problem-solving mindset\n",
        "* glossary\n",
        "    * key terms include problem-solving, high-level language, low-level language, portability, interpreter, prompt, program, print statement, operator, value, type, integer, floating-point, string, natural language, formal language, token, syntax, parse, bug, and debugging\n",
        "\n",
        "\n",
        "\n",
        "\n",
        "\n"
      ]
    },
    {
      "cell_type": "markdown",
      "metadata": {
        "id": "cReNPUb3t_EX"
      },
      "source": [
        "# Question 2"
      ]
    },
    {
      "cell_type": "markdown",
      "metadata": {
        "id": "JQnaRCq4t_EX"
      },
      "source": [
        "### Part A\n",
        "In this question, you will write code that prints “Hello, `<your name>`!!!” like below.\n",
        "\n",
        "    ***************************************\n",
        "    *                                     *\n",
        "    *        Hello, Harry Potter!!!       *\n",
        "    *                                     *\n",
        "    ***************************************\n",
        "\n",
        "**Hint:** _You will need to use more than one `print` command._ You should put each command on a new line."
      ]
    },
    {
      "cell_type": "code",
      "execution_count": 1,
      "metadata": {
        "id": "tWeQr_Egt_EY",
        "colab": {
          "base_uri": "https://localhost:8080/"
        },
        "outputId": "b993ef5f-dec0-4f68-d23f-ce401a3a34fe"
      },
      "outputs": [
        {
          "output_type": "stream",
          "name": "stdout",
          "text": [
            "Hello, Reece Rojas!!!\n"
          ]
        }
      ],
      "source": [
        "# your code here\n",
        "print('Hello, Reece Rojas!!!')"
      ]
    },
    {
      "cell_type": "markdown",
      "metadata": {
        "id": "yYtURDbOt_EZ"
      },
      "source": [
        "### Part B\n",
        "\n",
        "#### Adding comments\n",
        "At the beginning, your programs will be small and easy to understand. Over time, they’ll get bigger and more complicated. You may want to explain your code to someone else (like to those who are grading it 😊) or understand it yourself at a later date. Instead of having to understand what every line of code does, you can add comments to your code that explain what you were trying to do.\n",
        "\n",
        "You can add a one-line comment using the `#` sign.\n",
        "\n",
        "```python\n",
        "# Print a message to the screen\n",
        "print('hello, lmu!')\n",
        "```\n",
        "\n",
        "Comments are ignored by the computer—you can write anything you want there. Best practice, and what I would like you to do in this class, is to _always document your code_!\n",
        "\n",
        "> There is a nuance to this that will emerge as you get more advanced; but for now, the idea is to remove the friction between you and the act of explaining your intent."
      ]
    },
    {
      "cell_type": "markdown",
      "metadata": {
        "id": "hdi1qKZYt_Ea"
      },
      "source": [
        "Now, in the block of code below, add a _multi-line comment_ with your name, any collaborators, and a description of what it does. You should include a comment like that at the beginning of all future programs."
      ]
    },
    {
      "cell_type": "code",
      "execution_count": null,
      "metadata": {
        "id": "L96IRqpWt_Ea"
      },
      "outputs": [],
      "source": [
        "# your code here\n",
        "print('comment test')\n",
        "# testing comments!\n",
        "# : )"
      ]
    },
    {
      "cell_type": "markdown",
      "metadata": {
        "id": "lM37yHZct_Ef"
      },
      "source": [
        "# Question 3"
      ]
    },
    {
      "cell_type": "markdown",
      "metadata": {
        "id": "dnblSrQTt_Ef"
      },
      "source": [
        "### Spiffing up our UFO\n",
        "We will do a code-along to animate a flying UFO in the browser! You can find the code from class here: https://glitch.com/edit/#!/cmsi1010-ufo-python. Your goal is to build on the UFO code (e.g., shine a triangular beam of light, or land a plane). Be creative!\n",
        "\n",
        "1. **First, create your own project on Glitch:** https://glitch.com/\n",
        "You should create a new account. Then select _New Project_ at the top right, using the _hello-webpage_ option. Rename the project by clicking the upper-left corner and typing `MY-NAME-UFO`.\n",
        "2. Copy and paste `index.html` from the starter project to your `index.html`. Then create a new file called `ufo.py`. Copy and paste the code from class to your file.\n",
        "3. To run the code, click _Preview_ in the bottom right and select the option _Open preview pane_. You can see your code running as you type! Make sure you can see the flying UFO before you start modifying the code."
      ]
    },
    {
      "cell_type": "markdown",
      "metadata": {
        "id": "TG0vdZ2Rt_Ef"
      },
      "source": [
        "### paste your glitch link here:"
      ]
    },
    {
      "cell_type": "markdown",
      "source": [
        "https://grizzly-outrageous-hemisphere.glitch.me"
      ],
      "metadata": {
        "id": "jRLFK-IR8QmR"
      }
    }
  ],
  "metadata": {
    "kernelspec": {
      "display_name": "Python 3",
      "language": "python",
      "name": "python3"
    },
    "language_info": {
      "codemirror_mode": {
        "name": "ipython",
        "version": 3
      },
      "file_extension": ".py",
      "mimetype": "text/x-python",
      "name": "python",
      "nbconvert_exporter": "python",
      "pygments_lexer": "ipython3",
      "version": "3.8.5"
    },
    "colab": {
      "provenance": []
    }
  },
  "nbformat": 4,
  "nbformat_minor": 0
}