{
  "cells": [
    {
      "cell_type": "markdown",
      "metadata": {
        "id": "whhLn7gZJsmP"
      },
      "source": [
        "## <a href=\"https://colab.research.google.com/github/LMU-CMSI-1010/lab-notebooks-original/blob/main/Lab11.ipynb\" target=\"_parent\"><img src=\"https://colab.research.google.com/assets/colab-badge.svg\" alt=\"Open In Colab\"/></a>"
      ]
    },
    {
      "cell_type": "markdown",
      "metadata": {
        "id": "9aXfrLXg9seM"
      },
      "source": [
        "# Lab 11 Turtle Fractals\n",
        "In this lab you will use Turtle graphics to write recursive functions that you can see in your notebook. First, let's get to some preliminaries..."
      ]
    },
    {
      "cell_type": "markdown",
      "metadata": {
        "id": "cFmY8Nj8OVf4"
      },
      "source": [
        "## Setup\n",
        "To use turtle graphics in a notebook, first **run the following code block:**"
      ]
    },
    {
      "cell_type": "code",
      "execution_count": 1,
      "metadata": {
        "id": "2H9KiTyoNPR3",
        "colab": {
          "base_uri": "https://localhost:8080/"
        },
        "outputId": "9647f806-45af-4487-9d34-875d1654ac4c"
      },
      "outputs": [
        {
          "output_type": "stream",
          "name": "stdout",
          "text": [
            "Collecting ColabTurtle\n",
            "  Downloading ColabTurtle-2.1.0.tar.gz (6.8 kB)\n",
            "  Preparing metadata (setup.py) ... \u001b[?25l\u001b[?25hdone\n",
            "Building wheels for collected packages: ColabTurtle\n",
            "  Building wheel for ColabTurtle (setup.py) ... \u001b[?25l\u001b[?25hdone\n",
            "  Created wheel for ColabTurtle: filename=ColabTurtle-2.1.0-py3-none-any.whl size=7642 sha256=8d002db6577f9ef3896672588ca30a17ef5af4a4cf31da1a428e5f01bbdf28c5\n",
            "  Stored in directory: /root/.cache/pip/wheels/5b/86/e8/54f5c8c853606e3a3060bb2e60363cbed632374a12e0f33ffc\n",
            "Successfully built ColabTurtle\n",
            "Installing collected packages: ColabTurtle\n",
            "Successfully installed ColabTurtle-2.1.0\n"
          ]
        }
      ],
      "source": [
        "!pip3 install ColabTurtle"
      ]
    },
    {
      "cell_type": "markdown",
      "metadata": {
        "id": "5FlXUAuzUoAp"
      },
      "source": [
        "Once that succeeds, **run this one next** to import everything in the module:"
      ]
    },
    {
      "cell_type": "code",
      "execution_count": 2,
      "metadata": {
        "id": "0TWU2wyZNnIK"
      },
      "outputs": [],
      "source": [
        "from ColabTurtle.Turtle import *"
      ]
    },
    {
      "cell_type": "markdown",
      "metadata": {
        "id": "ozCb08bdUttR"
      },
      "source": [
        "Once both of these have executed successfully, you can have a turtle in a Colab Jupyter notebook! Additional documentation can be found here: https://github.com/tolgaatam/ColabTurtle"
      ]
    },
    {
      "cell_type": "markdown",
      "metadata": {
        "id": "vrccqrkTOYZ3"
      },
      "source": [
        "## Turtle Recap\n",
        "All turtle-in-notebook programs must start with `initializeTurtle()` to set things up.\n",
        "\n",
        "Below is a simple program that makes it take 100 steps forward then turns it 90 degrees counterclockwise. **Write a for loop to make the turtle draw a square.**"
      ]
    },
    {
      "cell_type": "code",
      "execution_count": 3,
      "metadata": {
        "id": "E3sTGBcCNtU7",
        "colab": {
          "base_uri": "https://localhost:8080/",
          "height": 521
        },
        "outputId": "93fb61f7-82e1-4a58-e037-7392c8dba535"
      },
      "outputs": [
        {
          "output_type": "display_data",
          "data": {
            "text/plain": [
              "<IPython.core.display.HTML object>"
            ],
            "text/html": [
              "\n",
              "      <svg width=\"800\" height=\"500\">\n",
              "        <rect width=\"100%\" height=\"100%\" fill=\"black\"/>\n",
              "        <line x1=\"400\" y1=\"250\" x2=\"400.0\" y2=\"150.0\" stroke-linecap=\"round\" style=\"stroke:white;stroke-width:4\"/><line x1=\"400.0\" y1=\"150.0\" x2=\"300.0\" y2=\"150.0\" stroke-linecap=\"round\" style=\"stroke:white;stroke-width:4\"/><line x1=\"300.0\" y1=\"150.0\" x2=\"300.0\" y2=\"250.0\" stroke-linecap=\"round\" style=\"stroke:white;stroke-width:4\"/><line x1=\"300.0\" y1=\"250.0\" x2=\"400.0\" y2=\"250.0\" stroke-linecap=\"round\" style=\"stroke:white;stroke-width:4\"/>\n",
              "        <g visibility=visible transform=\"rotate(360,400.0,250.0) translate(382.0, 232.0)\">\n",
              "<path style=\" stroke:none;fill-rule:evenodd;fill:white;fill-opacity:1;\" d=\"M 18.214844 0.632812 C 16.109375 1.800781 15.011719 4.074219 15.074219 7.132812 L 15.085938 7.652344 L 14.785156 7.496094 C 13.476562 6.824219 11.957031 6.671875 10.40625 7.066406 C 8.46875 7.550781 6.515625 9.15625 4.394531 11.992188 C 3.0625 13.777344 2.679688 14.636719 3.042969 15.027344 L 3.15625 15.152344 L 3.519531 15.152344 C 4.238281 15.152344 4.828125 14.886719 8.1875 13.039062 C 9.386719 12.378906 10.371094 11.839844 10.378906 11.839844 C 10.386719 11.839844 10.355469 11.929688 10.304688 12.035156 C 9.832031 13.09375 9.257812 14.820312 8.96875 16.078125 C 7.914062 20.652344 8.617188 24.53125 11.070312 27.660156 C 11.351562 28.015625 11.363281 27.914062 10.972656 28.382812 C 8.925781 30.84375 7.945312 33.28125 8.238281 35.1875 C 8.289062 35.527344 8.28125 35.523438 8.917969 35.523438 C 10.941406 35.523438 13.074219 34.207031 15.136719 31.6875 C 15.359375 31.417969 15.328125 31.425781 15.5625 31.574219 C 16.292969 32.042969 18.023438 32.964844 18.175781 32.964844 C 18.335938 32.964844 19.941406 32.210938 20.828125 31.71875 C 20.996094 31.625 21.136719 31.554688 21.136719 31.558594 C 21.203125 31.664062 21.898438 32.414062 22.222656 32.730469 C 23.835938 34.300781 25.5625 35.132812 27.582031 35.300781 C 27.90625 35.328125 27.9375 35.308594 28.007812 34.984375 C 28.382812 33.242188 27.625 30.925781 25.863281 28.425781 L 25.542969 27.96875 L 25.699219 27.785156 C 28.945312 23.960938 29.132812 18.699219 26.257812 11.96875 L 26.207031 11.84375 L 27.945312 12.703125 C 31.53125 14.476562 32.316406 14.800781 33.03125 14.800781 C 33.976562 14.800781 33.78125 13.9375 32.472656 12.292969 C 28.519531 7.355469 25.394531 5.925781 21.921875 7.472656 L 21.558594 7.636719 L 21.578125 7.542969 C 21.699219 6.992188 21.761719 5.742188 21.699219 5.164062 C 21.496094 3.296875 20.664062 1.964844 19.003906 0.855469 C 18.480469 0.503906 18.457031 0.5 18.214844 0.632812\"/>\n",
              "</g>\n",
              "      </svg>\n",
              "    "
            ]
          },
          "metadata": {}
        }
      ],
      "source": [
        "initializeTurtle()\n",
        "\n",
        "for i in range(4):\n",
        "  forward(100) # move 100 steps\n",
        "  left(90) # turn 90 degrees\n",
        "\n",
        "# TODO: Write a loop to make the turtle draw a square"
      ]
    },
    {
      "cell_type": "markdown",
      "metadata": {
        "id": "hTC8Hx3aVlNu"
      },
      "source": [
        "## Turtle Walk Forward—Recursively\n",
        "In the following cell, let's write a **recursive** function to make Turtle walk forward."
      ]
    },
    {
      "cell_type": "code",
      "execution_count": 4,
      "metadata": {
        "id": "h6zqeDnpG6tv",
        "colab": {
          "base_uri": "https://localhost:8080/",
          "height": 521
        },
        "outputId": "221fb97a-508e-4d0c-de0a-296871756d28"
      },
      "outputs": [
        {
          "output_type": "display_data",
          "data": {
            "text/plain": [
              "<IPython.core.display.HTML object>"
            ],
            "text/html": [
              "\n",
              "      <svg width=\"800\" height=\"500\">\n",
              "        <rect width=\"100%\" height=\"100%\" fill=\"black\"/>\n",
              "        <line x1=\"400\" y1=\"250\" x2=\"400.0\" y2=\"249.0\" stroke-linecap=\"round\" style=\"stroke:white;stroke-width:4\"/><line x1=\"400.0\" y1=\"249.0\" x2=\"400.0\" y2=\"248.0\" stroke-linecap=\"round\" style=\"stroke:white;stroke-width:4\"/><line x1=\"400.0\" y1=\"248.0\" x2=\"400.0\" y2=\"247.0\" stroke-linecap=\"round\" style=\"stroke:white;stroke-width:4\"/><line x1=\"400.0\" y1=\"247.0\" x2=\"400.0\" y2=\"246.0\" stroke-linecap=\"round\" style=\"stroke:white;stroke-width:4\"/><line x1=\"400.0\" y1=\"246.0\" x2=\"400.0\" y2=\"245.0\" stroke-linecap=\"round\" style=\"stroke:white;stroke-width:4\"/><line x1=\"400.0\" y1=\"245.0\" x2=\"400.0\" y2=\"244.0\" stroke-linecap=\"round\" style=\"stroke:white;stroke-width:4\"/><line x1=\"400.0\" y1=\"244.0\" x2=\"400.0\" y2=\"243.0\" stroke-linecap=\"round\" style=\"stroke:white;stroke-width:4\"/><line x1=\"400.0\" y1=\"243.0\" x2=\"400.0\" y2=\"242.0\" stroke-linecap=\"round\" style=\"stroke:white;stroke-width:4\"/><line x1=\"400.0\" y1=\"242.0\" x2=\"400.0\" y2=\"241.0\" stroke-linecap=\"round\" style=\"stroke:white;stroke-width:4\"/><line x1=\"400.0\" y1=\"241.0\" x2=\"400.0\" y2=\"240.0\" stroke-linecap=\"round\" style=\"stroke:white;stroke-width:4\"/><line x1=\"400.0\" y1=\"240.0\" x2=\"400.0\" y2=\"239.0\" stroke-linecap=\"round\" style=\"stroke:white;stroke-width:4\"/><line x1=\"400.0\" y1=\"239.0\" x2=\"400.0\" y2=\"238.0\" stroke-linecap=\"round\" style=\"stroke:white;stroke-width:4\"/><line x1=\"400.0\" y1=\"238.0\" x2=\"400.0\" y2=\"237.0\" stroke-linecap=\"round\" style=\"stroke:white;stroke-width:4\"/><line x1=\"400.0\" y1=\"237.0\" x2=\"400.0\" y2=\"236.0\" stroke-linecap=\"round\" style=\"stroke:white;stroke-width:4\"/><line x1=\"400.0\" y1=\"236.0\" x2=\"400.0\" y2=\"235.0\" stroke-linecap=\"round\" style=\"stroke:white;stroke-width:4\"/><line x1=\"400.0\" y1=\"235.0\" x2=\"400.0\" y2=\"234.0\" stroke-linecap=\"round\" style=\"stroke:white;stroke-width:4\"/><line x1=\"400.0\" y1=\"234.0\" x2=\"400.0\" y2=\"233.0\" stroke-linecap=\"round\" style=\"stroke:white;stroke-width:4\"/><line x1=\"400.0\" y1=\"233.0\" x2=\"400.0\" y2=\"232.0\" stroke-linecap=\"round\" style=\"stroke:white;stroke-width:4\"/><line x1=\"400.0\" y1=\"232.0\" x2=\"400.0\" y2=\"231.0\" stroke-linecap=\"round\" style=\"stroke:white;stroke-width:4\"/><line x1=\"400.0\" y1=\"231.0\" x2=\"400.0\" y2=\"230.0\" stroke-linecap=\"round\" style=\"stroke:white;stroke-width:4\"/><line x1=\"400.0\" y1=\"230.0\" x2=\"400.0\" y2=\"229.0\" stroke-linecap=\"round\" style=\"stroke:white;stroke-width:4\"/><line x1=\"400.0\" y1=\"229.0\" x2=\"400.0\" y2=\"228.0\" stroke-linecap=\"round\" style=\"stroke:white;stroke-width:4\"/><line x1=\"400.0\" y1=\"228.0\" x2=\"400.0\" y2=\"227.0\" stroke-linecap=\"round\" style=\"stroke:white;stroke-width:4\"/><line x1=\"400.0\" y1=\"227.0\" x2=\"400.0\" y2=\"226.0\" stroke-linecap=\"round\" style=\"stroke:white;stroke-width:4\"/><line x1=\"400.0\" y1=\"226.0\" x2=\"400.0\" y2=\"225.0\" stroke-linecap=\"round\" style=\"stroke:white;stroke-width:4\"/><line x1=\"400.0\" y1=\"225.0\" x2=\"400.0\" y2=\"224.0\" stroke-linecap=\"round\" style=\"stroke:white;stroke-width:4\"/><line x1=\"400.0\" y1=\"224.0\" x2=\"400.0\" y2=\"223.0\" stroke-linecap=\"round\" style=\"stroke:white;stroke-width:4\"/><line x1=\"400.0\" y1=\"223.0\" x2=\"400.0\" y2=\"222.0\" stroke-linecap=\"round\" style=\"stroke:white;stroke-width:4\"/><line x1=\"400.0\" y1=\"222.0\" x2=\"400.0\" y2=\"221.0\" stroke-linecap=\"round\" style=\"stroke:white;stroke-width:4\"/><line x1=\"400.0\" y1=\"221.0\" x2=\"400.0\" y2=\"220.0\" stroke-linecap=\"round\" style=\"stroke:white;stroke-width:4\"/><line x1=\"400.0\" y1=\"220.0\" x2=\"400.0\" y2=\"219.0\" stroke-linecap=\"round\" style=\"stroke:white;stroke-width:4\"/><line x1=\"400.0\" y1=\"219.0\" x2=\"400.0\" y2=\"218.0\" stroke-linecap=\"round\" style=\"stroke:white;stroke-width:4\"/><line x1=\"400.0\" y1=\"218.0\" x2=\"400.0\" y2=\"217.0\" stroke-linecap=\"round\" style=\"stroke:white;stroke-width:4\"/><line x1=\"400.0\" y1=\"217.0\" x2=\"400.0\" y2=\"216.0\" stroke-linecap=\"round\" style=\"stroke:white;stroke-width:4\"/><line x1=\"400.0\" y1=\"216.0\" x2=\"400.0\" y2=\"215.0\" stroke-linecap=\"round\" style=\"stroke:white;stroke-width:4\"/><line x1=\"400.0\" y1=\"215.0\" x2=\"400.0\" y2=\"214.0\" stroke-linecap=\"round\" style=\"stroke:white;stroke-width:4\"/><line x1=\"400.0\" y1=\"214.0\" x2=\"400.0\" y2=\"213.0\" stroke-linecap=\"round\" style=\"stroke:white;stroke-width:4\"/><line x1=\"400.0\" y1=\"213.0\" x2=\"400.0\" y2=\"212.0\" stroke-linecap=\"round\" style=\"stroke:white;stroke-width:4\"/><line x1=\"400.0\" y1=\"212.0\" x2=\"400.0\" y2=\"211.0\" stroke-linecap=\"round\" style=\"stroke:white;stroke-width:4\"/><line x1=\"400.0\" y1=\"211.0\" x2=\"400.0\" y2=\"210.0\" stroke-linecap=\"round\" style=\"stroke:white;stroke-width:4\"/><line x1=\"400.0\" y1=\"210.0\" x2=\"400.0\" y2=\"209.0\" stroke-linecap=\"round\" style=\"stroke:white;stroke-width:4\"/><line x1=\"400.0\" y1=\"209.0\" x2=\"400.0\" y2=\"208.0\" stroke-linecap=\"round\" style=\"stroke:white;stroke-width:4\"/><line x1=\"400.0\" y1=\"208.0\" x2=\"400.0\" y2=\"207.0\" stroke-linecap=\"round\" style=\"stroke:white;stroke-width:4\"/><line x1=\"400.0\" y1=\"207.0\" x2=\"400.0\" y2=\"206.0\" stroke-linecap=\"round\" style=\"stroke:white;stroke-width:4\"/><line x1=\"400.0\" y1=\"206.0\" x2=\"400.0\" y2=\"205.0\" stroke-linecap=\"round\" style=\"stroke:white;stroke-width:4\"/><line x1=\"400.0\" y1=\"205.0\" x2=\"400.0\" y2=\"204.0\" stroke-linecap=\"round\" style=\"stroke:white;stroke-width:4\"/><line x1=\"400.0\" y1=\"204.0\" x2=\"400.0\" y2=\"203.0\" stroke-linecap=\"round\" style=\"stroke:white;stroke-width:4\"/><line x1=\"400.0\" y1=\"203.0\" x2=\"400.0\" y2=\"202.0\" stroke-linecap=\"round\" style=\"stroke:white;stroke-width:4\"/><line x1=\"400.0\" y1=\"202.0\" x2=\"400.0\" y2=\"201.0\" stroke-linecap=\"round\" style=\"stroke:white;stroke-width:4\"/><line x1=\"400.0\" y1=\"201.0\" x2=\"400.0\" y2=\"200.0\" stroke-linecap=\"round\" style=\"stroke:white;stroke-width:4\"/><line x1=\"400.0\" y1=\"200.0\" x2=\"400.0\" y2=\"199.0\" stroke-linecap=\"round\" style=\"stroke:white;stroke-width:4\"/><line x1=\"400.0\" y1=\"199.0\" x2=\"400.0\" y2=\"198.0\" stroke-linecap=\"round\" style=\"stroke:white;stroke-width:4\"/><line x1=\"400.0\" y1=\"198.0\" x2=\"400.0\" y2=\"197.0\" stroke-linecap=\"round\" style=\"stroke:white;stroke-width:4\"/><line x1=\"400.0\" y1=\"197.0\" x2=\"400.0\" y2=\"196.0\" stroke-linecap=\"round\" style=\"stroke:white;stroke-width:4\"/><line x1=\"400.0\" y1=\"196.0\" x2=\"400.0\" y2=\"195.0\" stroke-linecap=\"round\" style=\"stroke:white;stroke-width:4\"/><line x1=\"400.0\" y1=\"195.0\" x2=\"400.0\" y2=\"194.0\" stroke-linecap=\"round\" style=\"stroke:white;stroke-width:4\"/><line x1=\"400.0\" y1=\"194.0\" x2=\"400.0\" y2=\"193.0\" stroke-linecap=\"round\" style=\"stroke:white;stroke-width:4\"/><line x1=\"400.0\" y1=\"193.0\" x2=\"400.0\" y2=\"192.0\" stroke-linecap=\"round\" style=\"stroke:white;stroke-width:4\"/><line x1=\"400.0\" y1=\"192.0\" x2=\"400.0\" y2=\"191.0\" stroke-linecap=\"round\" style=\"stroke:white;stroke-width:4\"/><line x1=\"400.0\" y1=\"191.0\" x2=\"400.0\" y2=\"190.0\" stroke-linecap=\"round\" style=\"stroke:white;stroke-width:4\"/><line x1=\"400.0\" y1=\"190.0\" x2=\"400.0\" y2=\"189.0\" stroke-linecap=\"round\" style=\"stroke:white;stroke-width:4\"/><line x1=\"400.0\" y1=\"189.0\" x2=\"400.0\" y2=\"188.0\" stroke-linecap=\"round\" style=\"stroke:white;stroke-width:4\"/><line x1=\"400.0\" y1=\"188.0\" x2=\"400.0\" y2=\"187.0\" stroke-linecap=\"round\" style=\"stroke:white;stroke-width:4\"/><line x1=\"400.0\" y1=\"187.0\" x2=\"400.0\" y2=\"186.0\" stroke-linecap=\"round\" style=\"stroke:white;stroke-width:4\"/><line x1=\"400.0\" y1=\"186.0\" x2=\"400.0\" y2=\"185.0\" stroke-linecap=\"round\" style=\"stroke:white;stroke-width:4\"/><line x1=\"400.0\" y1=\"185.0\" x2=\"400.0\" y2=\"184.0\" stroke-linecap=\"round\" style=\"stroke:white;stroke-width:4\"/><line x1=\"400.0\" y1=\"184.0\" x2=\"400.0\" y2=\"183.0\" stroke-linecap=\"round\" style=\"stroke:white;stroke-width:4\"/><line x1=\"400.0\" y1=\"183.0\" x2=\"400.0\" y2=\"182.0\" stroke-linecap=\"round\" style=\"stroke:white;stroke-width:4\"/><line x1=\"400.0\" y1=\"182.0\" x2=\"400.0\" y2=\"181.0\" stroke-linecap=\"round\" style=\"stroke:white;stroke-width:4\"/><line x1=\"400.0\" y1=\"181.0\" x2=\"400.0\" y2=\"180.0\" stroke-linecap=\"round\" style=\"stroke:white;stroke-width:4\"/><line x1=\"400.0\" y1=\"180.0\" x2=\"400.0\" y2=\"179.0\" stroke-linecap=\"round\" style=\"stroke:white;stroke-width:4\"/><line x1=\"400.0\" y1=\"179.0\" x2=\"400.0\" y2=\"178.0\" stroke-linecap=\"round\" style=\"stroke:white;stroke-width:4\"/><line x1=\"400.0\" y1=\"178.0\" x2=\"400.0\" y2=\"177.0\" stroke-linecap=\"round\" style=\"stroke:white;stroke-width:4\"/><line x1=\"400.0\" y1=\"177.0\" x2=\"400.0\" y2=\"176.0\" stroke-linecap=\"round\" style=\"stroke:white;stroke-width:4\"/><line x1=\"400.0\" y1=\"176.0\" x2=\"400.0\" y2=\"175.0\" stroke-linecap=\"round\" style=\"stroke:white;stroke-width:4\"/><line x1=\"400.0\" y1=\"175.0\" x2=\"400.0\" y2=\"174.0\" stroke-linecap=\"round\" style=\"stroke:white;stroke-width:4\"/><line x1=\"400.0\" y1=\"174.0\" x2=\"400.0\" y2=\"173.0\" stroke-linecap=\"round\" style=\"stroke:white;stroke-width:4\"/><line x1=\"400.0\" y1=\"173.0\" x2=\"400.0\" y2=\"172.0\" stroke-linecap=\"round\" style=\"stroke:white;stroke-width:4\"/><line x1=\"400.0\" y1=\"172.0\" x2=\"400.0\" y2=\"171.0\" stroke-linecap=\"round\" style=\"stroke:white;stroke-width:4\"/><line x1=\"400.0\" y1=\"171.0\" x2=\"400.0\" y2=\"170.0\" stroke-linecap=\"round\" style=\"stroke:white;stroke-width:4\"/><line x1=\"400.0\" y1=\"170.0\" x2=\"400.0\" y2=\"169.0\" stroke-linecap=\"round\" style=\"stroke:white;stroke-width:4\"/><line x1=\"400.0\" y1=\"169.0\" x2=\"400.0\" y2=\"168.0\" stroke-linecap=\"round\" style=\"stroke:white;stroke-width:4\"/><line x1=\"400.0\" y1=\"168.0\" x2=\"400.0\" y2=\"167.0\" stroke-linecap=\"round\" style=\"stroke:white;stroke-width:4\"/><line x1=\"400.0\" y1=\"167.0\" x2=\"400.0\" y2=\"166.0\" stroke-linecap=\"round\" style=\"stroke:white;stroke-width:4\"/><line x1=\"400.0\" y1=\"166.0\" x2=\"400.0\" y2=\"165.0\" stroke-linecap=\"round\" style=\"stroke:white;stroke-width:4\"/><line x1=\"400.0\" y1=\"165.0\" x2=\"400.0\" y2=\"164.0\" stroke-linecap=\"round\" style=\"stroke:white;stroke-width:4\"/><line x1=\"400.0\" y1=\"164.0\" x2=\"400.0\" y2=\"163.0\" stroke-linecap=\"round\" style=\"stroke:white;stroke-width:4\"/><line x1=\"400.0\" y1=\"163.0\" x2=\"400.0\" y2=\"162.0\" stroke-linecap=\"round\" style=\"stroke:white;stroke-width:4\"/><line x1=\"400.0\" y1=\"162.0\" x2=\"400.0\" y2=\"161.0\" stroke-linecap=\"round\" style=\"stroke:white;stroke-width:4\"/><line x1=\"400.0\" y1=\"161.0\" x2=\"400.0\" y2=\"160.0\" stroke-linecap=\"round\" style=\"stroke:white;stroke-width:4\"/><line x1=\"400.0\" y1=\"160.0\" x2=\"400.0\" y2=\"159.0\" stroke-linecap=\"round\" style=\"stroke:white;stroke-width:4\"/><line x1=\"400.0\" y1=\"159.0\" x2=\"400.0\" y2=\"158.0\" stroke-linecap=\"round\" style=\"stroke:white;stroke-width:4\"/><line x1=\"400.0\" y1=\"158.0\" x2=\"400.0\" y2=\"157.0\" stroke-linecap=\"round\" style=\"stroke:white;stroke-width:4\"/><line x1=\"400.0\" y1=\"157.0\" x2=\"400.0\" y2=\"156.0\" stroke-linecap=\"round\" style=\"stroke:white;stroke-width:4\"/><line x1=\"400.0\" y1=\"156.0\" x2=\"400.0\" y2=\"155.0\" stroke-linecap=\"round\" style=\"stroke:white;stroke-width:4\"/><line x1=\"400.0\" y1=\"155.0\" x2=\"400.0\" y2=\"154.0\" stroke-linecap=\"round\" style=\"stroke:white;stroke-width:4\"/><line x1=\"400.0\" y1=\"154.0\" x2=\"400.0\" y2=\"153.0\" stroke-linecap=\"round\" style=\"stroke:white;stroke-width:4\"/><line x1=\"400.0\" y1=\"153.0\" x2=\"400.0\" y2=\"152.0\" stroke-linecap=\"round\" style=\"stroke:white;stroke-width:4\"/><line x1=\"400.0\" y1=\"152.0\" x2=\"400.0\" y2=\"151.0\" stroke-linecap=\"round\" style=\"stroke:white;stroke-width:4\"/><line x1=\"400.0\" y1=\"151.0\" x2=\"400.0\" y2=\"150.0\" stroke-linecap=\"round\" style=\"stroke:white;stroke-width:4\"/>\n",
              "        <g visibility=visible transform=\"rotate(360,400.0,150.0) translate(382.0, 132.0)\">\n",
              "<path style=\" stroke:none;fill-rule:evenodd;fill:white;fill-opacity:1;\" d=\"M 18.214844 0.632812 C 16.109375 1.800781 15.011719 4.074219 15.074219 7.132812 L 15.085938 7.652344 L 14.785156 7.496094 C 13.476562 6.824219 11.957031 6.671875 10.40625 7.066406 C 8.46875 7.550781 6.515625 9.15625 4.394531 11.992188 C 3.0625 13.777344 2.679688 14.636719 3.042969 15.027344 L 3.15625 15.152344 L 3.519531 15.152344 C 4.238281 15.152344 4.828125 14.886719 8.1875 13.039062 C 9.386719 12.378906 10.371094 11.839844 10.378906 11.839844 C 10.386719 11.839844 10.355469 11.929688 10.304688 12.035156 C 9.832031 13.09375 9.257812 14.820312 8.96875 16.078125 C 7.914062 20.652344 8.617188 24.53125 11.070312 27.660156 C 11.351562 28.015625 11.363281 27.914062 10.972656 28.382812 C 8.925781 30.84375 7.945312 33.28125 8.238281 35.1875 C 8.289062 35.527344 8.28125 35.523438 8.917969 35.523438 C 10.941406 35.523438 13.074219 34.207031 15.136719 31.6875 C 15.359375 31.417969 15.328125 31.425781 15.5625 31.574219 C 16.292969 32.042969 18.023438 32.964844 18.175781 32.964844 C 18.335938 32.964844 19.941406 32.210938 20.828125 31.71875 C 20.996094 31.625 21.136719 31.554688 21.136719 31.558594 C 21.203125 31.664062 21.898438 32.414062 22.222656 32.730469 C 23.835938 34.300781 25.5625 35.132812 27.582031 35.300781 C 27.90625 35.328125 27.9375 35.308594 28.007812 34.984375 C 28.382812 33.242188 27.625 30.925781 25.863281 28.425781 L 25.542969 27.96875 L 25.699219 27.785156 C 28.945312 23.960938 29.132812 18.699219 26.257812 11.96875 L 26.207031 11.84375 L 27.945312 12.703125 C 31.53125 14.476562 32.316406 14.800781 33.03125 14.800781 C 33.976562 14.800781 33.78125 13.9375 32.472656 12.292969 C 28.519531 7.355469 25.394531 5.925781 21.921875 7.472656 L 21.558594 7.636719 L 21.578125 7.542969 C 21.699219 6.992188 21.761719 5.742188 21.699219 5.164062 C 21.496094 3.296875 20.664062 1.964844 19.003906 0.855469 C 18.480469 0.503906 18.457031 0.5 18.214844 0.632812\"/>\n",
              "</g>\n",
              "      </svg>\n",
              "    "
            ]
          },
          "metadata": {}
        }
      ],
      "source": [
        "def walk_forward(n):\n",
        "    if n == 0:\n",
        "        return\n",
        "\n",
        "    forward(1)\n",
        "    walk_forward(n - 1)\n",
        "\n",
        "# Intializing turtle and then walking forward 100\n",
        "# as above.\n",
        "initializeTurtle()\n",
        "walk_forward(100)"
      ]
    },
    {
      "cell_type": "markdown",
      "source": [
        "In the text block below, **explain why the turtle is moving so slowly**:"
      ],
      "metadata": {
        "id": "zVAm-TYwWZHE"
      }
    },
    {
      "cell_type": "markdown",
      "source": [
        "In the recursive function walk_forward(n), the turtle is only moving by one unit until the recursive function is called again."
      ],
      "metadata": {
        "id": "UhvqOg8_WgZU"
      }
    },
    {
      "cell_type": "markdown",
      "metadata": {
        "id": "Hkgc6XVvFKhb"
      },
      "source": [
        "## Recursion with Turtle (Returtlin'?)\n",
        "Shapes that are made of smaller versions of themselves are called *fractals*. They are mathematically interesting, and mother nature agrees! Fractals can be found in many natural objects such as snowflakes, pineapples, and Romanesco broccoli. In the following cell, we have Turtle recursively draw a branch. *You need only run this cell as an example; you do not have to code anything.*"
      ]
    },
    {
      "cell_type": "code",
      "execution_count": 5,
      "metadata": {
        "id": "7qRE5QMvFbct",
        "colab": {
          "base_uri": "https://localhost:8080/",
          "height": 521
        },
        "outputId": "2e9412d6-ebf9-46fd-c3be-403724cf711e"
      },
      "outputs": [
        {
          "output_type": "display_data",
          "data": {
            "text/plain": [
              "<IPython.core.display.HTML object>"
            ],
            "text/html": [
              "\n",
              "      <svg width=\"800\" height=\"500\">\n",
              "        <rect width=\"100%\" height=\"100%\" fill=\"black\"/>\n",
              "        <line x1=\"400\" y1=\"250\" x2=\"400.0\" y2=\"154.0\" stroke-linecap=\"round\" style=\"stroke:white;stroke-width:4\"/><line x1=\"400.0\" y1=\"154.0\" x2=\"350.973\" y2=\"112.862\" stroke-linecap=\"round\" style=\"stroke:white;stroke-width:4\"/><line x1=\"350.973\" y1=\"112.862\" x2=\"319.459\" y2=\"118.419\" stroke-linecap=\"round\" style=\"stroke:white;stroke-width:4\"/><line x1=\"319.459\" y1=\"118.419\" x2=\"350.973\" y2=\"112.862\" stroke-linecap=\"round\" style=\"stroke:white;stroke-width:4\"/><line x1=\"350.973\" y1=\"112.862\" x2=\"350.973\" y2=\"80.862\" stroke-linecap=\"round\" style=\"stroke:white;stroke-width:4\"/><line x1=\"350.973\" y1=\"80.862\" x2=\"350.973\" y2=\"112.862\" stroke-linecap=\"round\" style=\"stroke:white;stroke-width:4\"/><line x1=\"350.973\" y1=\"112.862\" x2=\"400.0\" y2=\"154.0\" stroke-linecap=\"round\" style=\"stroke:white;stroke-width:4\"/><line x1=\"400.0\" y1=\"154.0\" x2=\"449.027\" y2=\"112.862\" stroke-linecap=\"round\" style=\"stroke:white;stroke-width:4\"/><line x1=\"449.027\" y1=\"112.862\" x2=\"449.027\" y2=\"80.862\" stroke-linecap=\"round\" style=\"stroke:white;stroke-width:4\"/><line x1=\"449.027\" y1=\"80.862\" x2=\"449.027\" y2=\"112.862\" stroke-linecap=\"round\" style=\"stroke:white;stroke-width:4\"/><line x1=\"449.027\" y1=\"112.862\" x2=\"480.541\" y2=\"118.419\" stroke-linecap=\"round\" style=\"stroke:white;stroke-width:4\"/><line x1=\"480.541\" y1=\"118.419\" x2=\"449.027\" y2=\"112.862\" stroke-linecap=\"round\" style=\"stroke:white;stroke-width:4\"/><line x1=\"449.027\" y1=\"112.862\" x2=\"400.0\" y2=\"154.0\" stroke-linecap=\"round\" style=\"stroke:white;stroke-width:4\"/><line x1=\"400.0\" y1=\"154.0\" x2=\"400.0\" y2=\"250.0\" stroke-linecap=\"round\" style=\"stroke:white;stroke-width:4\"/>\n",
              "        <g visibility=visible transform=\"rotate(360,400.0,250.0) translate(382.0, 232.0)\">\n",
              "<path style=\" stroke:none;fill-rule:evenodd;fill:white;fill-opacity:1;\" d=\"M 18.214844 0.632812 C 16.109375 1.800781 15.011719 4.074219 15.074219 7.132812 L 15.085938 7.652344 L 14.785156 7.496094 C 13.476562 6.824219 11.957031 6.671875 10.40625 7.066406 C 8.46875 7.550781 6.515625 9.15625 4.394531 11.992188 C 3.0625 13.777344 2.679688 14.636719 3.042969 15.027344 L 3.15625 15.152344 L 3.519531 15.152344 C 4.238281 15.152344 4.828125 14.886719 8.1875 13.039062 C 9.386719 12.378906 10.371094 11.839844 10.378906 11.839844 C 10.386719 11.839844 10.355469 11.929688 10.304688 12.035156 C 9.832031 13.09375 9.257812 14.820312 8.96875 16.078125 C 7.914062 20.652344 8.617188 24.53125 11.070312 27.660156 C 11.351562 28.015625 11.363281 27.914062 10.972656 28.382812 C 8.925781 30.84375 7.945312 33.28125 8.238281 35.1875 C 8.289062 35.527344 8.28125 35.523438 8.917969 35.523438 C 10.941406 35.523438 13.074219 34.207031 15.136719 31.6875 C 15.359375 31.417969 15.328125 31.425781 15.5625 31.574219 C 16.292969 32.042969 18.023438 32.964844 18.175781 32.964844 C 18.335938 32.964844 19.941406 32.210938 20.828125 31.71875 C 20.996094 31.625 21.136719 31.554688 21.136719 31.558594 C 21.203125 31.664062 21.898438 32.414062 22.222656 32.730469 C 23.835938 34.300781 25.5625 35.132812 27.582031 35.300781 C 27.90625 35.328125 27.9375 35.308594 28.007812 34.984375 C 28.382812 33.242188 27.625 30.925781 25.863281 28.425781 L 25.542969 27.96875 L 25.699219 27.785156 C 28.945312 23.960938 29.132812 18.699219 26.257812 11.96875 L 26.207031 11.84375 L 27.945312 12.703125 C 31.53125 14.476562 32.316406 14.800781 33.03125 14.800781 C 33.976562 14.800781 33.78125 13.9375 32.472656 12.292969 C 28.519531 7.355469 25.394531 5.925781 21.921875 7.472656 L 21.558594 7.636719 L 21.578125 7.542969 C 21.699219 6.992188 21.761719 5.742188 21.699219 5.164062 C 21.496094 3.296875 20.664062 1.964844 19.003906 0.855469 C 18.480469 0.503906 18.457031 0.5 18.214844 0.632812\"/>\n",
              "</g>\n",
              "      </svg>\n",
              "    "
            ]
          },
          "metadata": {}
        }
      ],
      "source": [
        "# TODO: Try to draw the branch by hand BEFORE running the code!\n",
        "# Hint: Start with n = 1, then use your answer to draw n = 2, and finally n = 3.\n",
        "def draw_branch(n, branch_length=32):\n",
        "    if n == 0:\n",
        "        return\n",
        "\n",
        "    forward(branch_length * n)\n",
        "    left(50)\n",
        "    draw_branch(n - 1, branch_length)\n",
        "    right(100)\n",
        "    draw_branch(n - 1, branch_length)\n",
        "    left(50)\n",
        "    back(branch_length * n)\n",
        "\n",
        "initializeTurtle()\n",
        "draw_branch(3)\n"
      ]
    },
    {
      "cell_type": "markdown",
      "metadata": {
        "id": "zph8SLSIJaow"
      },
      "source": [
        "## More Turtle Fractals\n",
        "\n",
        "Now it's your turn. In the following cell, you will be guided through **writing a recursive function to draw a Koch fractal**.\n",
        "\n",
        "**TODO:** Please follow the comments to complete the function `koch_fractal`."
      ]
    },
    {
      "cell_type": "code",
      "execution_count": 6,
      "metadata": {
        "id": "E3bs-RGgJ_IV",
        "colab": {
          "base_uri": "https://localhost:8080/",
          "height": 521
        },
        "outputId": "ea65a106-c62f-4e55-fcb6-f911019155cb"
      },
      "outputs": [
        {
          "output_type": "display_data",
          "data": {
            "text/plain": [
              "<IPython.core.display.HTML object>"
            ],
            "text/html": [
              "\n",
              "      <svg width=\"800\" height=\"500\">\n",
              "        <rect width=\"100%\" height=\"100%\" fill=\"black\"/>\n",
              "        <line x1=\"0\" y1=\"200\" x2=\"10.0\" y2=\"200.0\" stroke-linecap=\"round\" style=\"stroke:white;stroke-width:4\"/><line x1=\"10.0\" y1=\"200.0\" x2=\"15.0\" y2=\"191.34\" stroke-linecap=\"round\" style=\"stroke:white;stroke-width:4\"/><line x1=\"15.0\" y1=\"191.34\" x2=\"20.0\" y2=\"200.0\" stroke-linecap=\"round\" style=\"stroke:white;stroke-width:4\"/><line x1=\"20.0\" y1=\"200.0\" x2=\"30.0\" y2=\"200.0\" stroke-linecap=\"round\" style=\"stroke:white;stroke-width:4\"/><line x1=\"30.0\" y1=\"200.0\" x2=\"35.0\" y2=\"191.34\" stroke-linecap=\"round\" style=\"stroke:white;stroke-width:4\"/><line x1=\"35.0\" y1=\"191.34\" x2=\"30.0\" y2=\"182.68\" stroke-linecap=\"round\" style=\"stroke:white;stroke-width:4\"/><line x1=\"30.0\" y1=\"182.68\" x2=\"40.0\" y2=\"182.68\" stroke-linecap=\"round\" style=\"stroke:white;stroke-width:4\"/><line x1=\"40.0\" y1=\"182.68\" x2=\"45.0\" y2=\"174.02\" stroke-linecap=\"round\" style=\"stroke:white;stroke-width:4\"/><line x1=\"45.0\" y1=\"174.02\" x2=\"50.0\" y2=\"182.68\" stroke-linecap=\"round\" style=\"stroke:white;stroke-width:4\"/><line x1=\"50.0\" y1=\"182.68\" x2=\"60.0\" y2=\"182.68\" stroke-linecap=\"round\" style=\"stroke:white;stroke-width:4\"/><line x1=\"60.0\" y1=\"182.68\" x2=\"55.0\" y2=\"191.34\" stroke-linecap=\"round\" style=\"stroke:white;stroke-width:4\"/><line x1=\"55.0\" y1=\"191.34\" x2=\"60.0\" y2=\"200.0\" stroke-linecap=\"round\" style=\"stroke:white;stroke-width:4\"/><line x1=\"60.0\" y1=\"200.0\" x2=\"70.0\" y2=\"200.0\" stroke-linecap=\"round\" style=\"stroke:white;stroke-width:4\"/><line x1=\"70.0\" y1=\"200.0\" x2=\"75.0\" y2=\"191.34\" stroke-linecap=\"round\" style=\"stroke:white;stroke-width:4\"/><line x1=\"75.0\" y1=\"191.34\" x2=\"80.0\" y2=\"200.0\" stroke-linecap=\"round\" style=\"stroke:white;stroke-width:4\"/><line x1=\"80.0\" y1=\"200.0\" x2=\"90.0\" y2=\"200.0\" stroke-linecap=\"round\" style=\"stroke:white;stroke-width:4\"/><line x1=\"90.0\" y1=\"200.0\" x2=\"95.0\" y2=\"191.34\" stroke-linecap=\"round\" style=\"stroke:white;stroke-width:4\"/><line x1=\"95.0\" y1=\"191.34\" x2=\"90.0\" y2=\"182.68\" stroke-linecap=\"round\" style=\"stroke:white;stroke-width:4\"/><line x1=\"90.0\" y1=\"182.68\" x2=\"100.0\" y2=\"182.68\" stroke-linecap=\"round\" style=\"stroke:white;stroke-width:4\"/><line x1=\"100.0\" y1=\"182.68\" x2=\"105.0\" y2=\"174.02\" stroke-linecap=\"round\" style=\"stroke:white;stroke-width:4\"/><line x1=\"105.0\" y1=\"174.02\" x2=\"100.0\" y2=\"165.36\" stroke-linecap=\"round\" style=\"stroke:white;stroke-width:4\"/><line x1=\"100.0\" y1=\"165.36\" x2=\"90.0\" y2=\"165.36\" stroke-linecap=\"round\" style=\"stroke:white;stroke-width:4\"/><line x1=\"90.0\" y1=\"165.36\" x2=\"95.0\" y2=\"156.7\" stroke-linecap=\"round\" style=\"stroke:white;stroke-width:4\"/><line x1=\"95.0\" y1=\"156.7\" x2=\"90.0\" y2=\"148.04\" stroke-linecap=\"round\" style=\"stroke:white;stroke-width:4\"/><line x1=\"90.0\" y1=\"148.04\" x2=\"100.0\" y2=\"148.04\" stroke-linecap=\"round\" style=\"stroke:white;stroke-width:4\"/><line x1=\"100.0\" y1=\"148.04\" x2=\"105.0\" y2=\"139.38\" stroke-linecap=\"round\" style=\"stroke:white;stroke-width:4\"/><line x1=\"105.0\" y1=\"139.38\" x2=\"110.0\" y2=\"148.04\" stroke-linecap=\"round\" style=\"stroke:white;stroke-width:4\"/><line x1=\"110.0\" y1=\"148.04\" x2=\"120.0\" y2=\"148.04\" stroke-linecap=\"round\" style=\"stroke:white;stroke-width:4\"/><line x1=\"120.0\" y1=\"148.04\" x2=\"125.0\" y2=\"139.38\" stroke-linecap=\"round\" style=\"stroke:white;stroke-width:4\"/><line x1=\"125.0\" y1=\"139.38\" x2=\"120.0\" y2=\"130.72\" stroke-linecap=\"round\" style=\"stroke:white;stroke-width:4\"/><line x1=\"120.0\" y1=\"130.72\" x2=\"130.0\" y2=\"130.72\" stroke-linecap=\"round\" style=\"stroke:white;stroke-width:4\"/><line x1=\"130.0\" y1=\"130.72\" x2=\"135.0\" y2=\"122.06\" stroke-linecap=\"round\" style=\"stroke:white;stroke-width:4\"/><line x1=\"135.0\" y1=\"122.06\" x2=\"140.0\" y2=\"130.72\" stroke-linecap=\"round\" style=\"stroke:white;stroke-width:4\"/><line x1=\"140.0\" y1=\"130.72\" x2=\"150.0\" y2=\"130.72\" stroke-linecap=\"round\" style=\"stroke:white;stroke-width:4\"/><line x1=\"150.0\" y1=\"130.72\" x2=\"145.0\" y2=\"139.38\" stroke-linecap=\"round\" style=\"stroke:white;stroke-width:4\"/><line x1=\"145.0\" y1=\"139.38\" x2=\"150.0\" y2=\"148.04\" stroke-linecap=\"round\" style=\"stroke:white;stroke-width:4\"/><line x1=\"150.0\" y1=\"148.04\" x2=\"160.0\" y2=\"148.04\" stroke-linecap=\"round\" style=\"stroke:white;stroke-width:4\"/><line x1=\"160.0\" y1=\"148.04\" x2=\"165.0\" y2=\"139.38\" stroke-linecap=\"round\" style=\"stroke:white;stroke-width:4\"/><line x1=\"165.0\" y1=\"139.38\" x2=\"170.0\" y2=\"148.04\" stroke-linecap=\"round\" style=\"stroke:white;stroke-width:4\"/><line x1=\"170.0\" y1=\"148.04\" x2=\"180.0\" y2=\"148.04\" stroke-linecap=\"round\" style=\"stroke:white;stroke-width:4\"/><line x1=\"180.0\" y1=\"148.04\" x2=\"175.0\" y2=\"156.7\" stroke-linecap=\"round\" style=\"stroke:white;stroke-width:4\"/><line x1=\"175.0\" y1=\"156.7\" x2=\"180.0\" y2=\"165.36\" stroke-linecap=\"round\" style=\"stroke:white;stroke-width:4\"/><line x1=\"180.0\" y1=\"165.36\" x2=\"170.0\" y2=\"165.36\" stroke-linecap=\"round\" style=\"stroke:white;stroke-width:4\"/><line x1=\"170.0\" y1=\"165.36\" x2=\"165.0\" y2=\"174.02\" stroke-linecap=\"round\" style=\"stroke:white;stroke-width:4\"/><line x1=\"165.0\" y1=\"174.02\" x2=\"170.0\" y2=\"182.68\" stroke-linecap=\"round\" style=\"stroke:white;stroke-width:4\"/><line x1=\"170.0\" y1=\"182.68\" x2=\"180.0\" y2=\"182.68\" stroke-linecap=\"round\" style=\"stroke:white;stroke-width:4\"/><line x1=\"180.0\" y1=\"182.68\" x2=\"175.0\" y2=\"191.34\" stroke-linecap=\"round\" style=\"stroke:white;stroke-width:4\"/><line x1=\"175.0\" y1=\"191.34\" x2=\"180.0\" y2=\"200.0\" stroke-linecap=\"round\" style=\"stroke:white;stroke-width:4\"/><line x1=\"180.0\" y1=\"200.0\" x2=\"190.0\" y2=\"200.0\" stroke-linecap=\"round\" style=\"stroke:white;stroke-width:4\"/><line x1=\"190.0\" y1=\"200.0\" x2=\"195.0\" y2=\"191.34\" stroke-linecap=\"round\" style=\"stroke:white;stroke-width:4\"/><line x1=\"195.0\" y1=\"191.34\" x2=\"200.0\" y2=\"200.0\" stroke-linecap=\"round\" style=\"stroke:white;stroke-width:4\"/><line x1=\"200.0\" y1=\"200.0\" x2=\"210.0\" y2=\"200.0\" stroke-linecap=\"round\" style=\"stroke:white;stroke-width:4\"/><line x1=\"210.0\" y1=\"200.0\" x2=\"215.0\" y2=\"191.34\" stroke-linecap=\"round\" style=\"stroke:white;stroke-width:4\"/><line x1=\"215.0\" y1=\"191.34\" x2=\"210.0\" y2=\"182.68\" stroke-linecap=\"round\" style=\"stroke:white;stroke-width:4\"/><line x1=\"210.0\" y1=\"182.68\" x2=\"220.0\" y2=\"182.68\" stroke-linecap=\"round\" style=\"stroke:white;stroke-width:4\"/><line x1=\"220.0\" y1=\"182.68\" x2=\"225.0\" y2=\"174.02\" stroke-linecap=\"round\" style=\"stroke:white;stroke-width:4\"/><line x1=\"225.0\" y1=\"174.02\" x2=\"230.0\" y2=\"182.68\" stroke-linecap=\"round\" style=\"stroke:white;stroke-width:4\"/><line x1=\"230.0\" y1=\"182.68\" x2=\"240.0\" y2=\"182.68\" stroke-linecap=\"round\" style=\"stroke:white;stroke-width:4\"/><line x1=\"240.0\" y1=\"182.68\" x2=\"235.0\" y2=\"191.34\" stroke-linecap=\"round\" style=\"stroke:white;stroke-width:4\"/><line x1=\"235.0\" y1=\"191.34\" x2=\"240.0\" y2=\"200.0\" stroke-linecap=\"round\" style=\"stroke:white;stroke-width:4\"/><line x1=\"240.0\" y1=\"200.0\" x2=\"250.0\" y2=\"200.0\" stroke-linecap=\"round\" style=\"stroke:white;stroke-width:4\"/><line x1=\"250.0\" y1=\"200.0\" x2=\"255.0\" y2=\"191.34\" stroke-linecap=\"round\" style=\"stroke:white;stroke-width:4\"/><line x1=\"255.0\" y1=\"191.34\" x2=\"260.0\" y2=\"200.0\" stroke-linecap=\"round\" style=\"stroke:white;stroke-width:4\"/><line x1=\"260.0\" y1=\"200.0\" x2=\"270.0\" y2=\"200.0\" stroke-linecap=\"round\" style=\"stroke:white;stroke-width:4\"/>\n",
              "        <g visibility=visible transform=\"rotate(90,270.0,200.0) translate(252.0, 182.0)\">\n",
              "<path style=\" stroke:none;fill-rule:evenodd;fill:white;fill-opacity:1;\" d=\"M 18.214844 0.632812 C 16.109375 1.800781 15.011719 4.074219 15.074219 7.132812 L 15.085938 7.652344 L 14.785156 7.496094 C 13.476562 6.824219 11.957031 6.671875 10.40625 7.066406 C 8.46875 7.550781 6.515625 9.15625 4.394531 11.992188 C 3.0625 13.777344 2.679688 14.636719 3.042969 15.027344 L 3.15625 15.152344 L 3.519531 15.152344 C 4.238281 15.152344 4.828125 14.886719 8.1875 13.039062 C 9.386719 12.378906 10.371094 11.839844 10.378906 11.839844 C 10.386719 11.839844 10.355469 11.929688 10.304688 12.035156 C 9.832031 13.09375 9.257812 14.820312 8.96875 16.078125 C 7.914062 20.652344 8.617188 24.53125 11.070312 27.660156 C 11.351562 28.015625 11.363281 27.914062 10.972656 28.382812 C 8.925781 30.84375 7.945312 33.28125 8.238281 35.1875 C 8.289062 35.527344 8.28125 35.523438 8.917969 35.523438 C 10.941406 35.523438 13.074219 34.207031 15.136719 31.6875 C 15.359375 31.417969 15.328125 31.425781 15.5625 31.574219 C 16.292969 32.042969 18.023438 32.964844 18.175781 32.964844 C 18.335938 32.964844 19.941406 32.210938 20.828125 31.71875 C 20.996094 31.625 21.136719 31.554688 21.136719 31.558594 C 21.203125 31.664062 21.898438 32.414062 22.222656 32.730469 C 23.835938 34.300781 25.5625 35.132812 27.582031 35.300781 C 27.90625 35.328125 27.9375 35.308594 28.007812 34.984375 C 28.382812 33.242188 27.625 30.925781 25.863281 28.425781 L 25.542969 27.96875 L 25.699219 27.785156 C 28.945312 23.960938 29.132812 18.699219 26.257812 11.96875 L 26.207031 11.84375 L 27.945312 12.703125 C 31.53125 14.476562 32.316406 14.800781 33.03125 14.800781 C 33.976562 14.800781 33.78125 13.9375 32.472656 12.292969 C 28.519531 7.355469 25.394531 5.925781 21.921875 7.472656 L 21.558594 7.636719 L 21.578125 7.542969 C 21.699219 6.992188 21.761719 5.742188 21.699219 5.164062 C 21.496094 3.296875 20.664062 1.964844 19.003906 0.855469 C 18.480469 0.503906 18.457031 0.5 18.214844 0.632812\"/>\n",
              "</g>\n",
              "      </svg>\n",
              "    "
            ]
          },
          "metadata": {}
        }
      ],
      "source": [
        "def koch_fractal(n, step):\n",
        "    # Base case: if no turns (n) remain,\n",
        "    if n == 0:\n",
        "        # TODO: walk forward step amount\n",
        "        forward(step)\n",
        "        return\n",
        "\n",
        "\n",
        "    # START Recursive case\n",
        "\n",
        "    # TODO: Draw fractal with one fewer turns by decreasing n\n",
        "    # Keep the step size the same\n",
        "    koch_fractal(n - 1, step)\n",
        "\n",
        "\n",
        "    # TOD: Have Turtle turn left 60 degrees\n",
        "    left(60)\n",
        "\n",
        "    # TODO: Draw fractal with one fewer turns by decreasing n\n",
        "    # Keep the step size the same\n",
        "    koch_fractal(n - 1, step)\n",
        "\n",
        "\n",
        "    # TODO: Have Turtle turn right 120 degrees\n",
        "    right(120)\n",
        "\n",
        "\n",
        "    # TODO: Draw fractal with one fewer turns by decreasing n\n",
        "    # Keep the step size the same\n",
        "    koch_fractal(n - 1, step)\n",
        "\n",
        "\n",
        "    # TODO: Have Turtle turn left 60 degrees\n",
        "    left(60)\n",
        "\n",
        "\n",
        "    # TODO: Draw fractal with one fewer turns by decreasing n\n",
        "    # Keep the step size the same\n",
        "    koch_fractal(n - 1, step)\n",
        "\n",
        "\n",
        "    # END recursive case\n",
        "\n",
        "# This brings Turtle to leftmost portion\n",
        "# of screen. You do not need to change this code.\n",
        "initializeTurtle()\n",
        "penup()\n",
        "goto(0, 200)\n",
        "pendown()\n",
        "right(90)\n",
        "\n",
        "# Here you can change calls to koch_fractal to draw curves\n",
        "# Remember the first argument n is how many turns you want\n",
        "# Turtle to make drawing curves, and the second argument step\n",
        "# is how far Turtle will walk forward.\n",
        "# This function is not efficient, so try with small values of n\n",
        "# Optional: Make a snowflake by combining 3 koch fractals into a triangle\n",
        "koch_fractal(3, 10)"
      ]
    },
    {
      "cell_type": "markdown",
      "metadata": {
        "id": "Rl7p-gZxUJDb"
      },
      "source": [
        "# Tracing Turtle Fractal\n",
        "Can you trace (i.e., draw the stack diagram for) `koch_fractal` when `n` is 2 ? **You can follow along drawing by hand with Turtle and labeling the function calls to create a stack diagram.**"
      ]
    },
    {
      "cell_type": "markdown",
      "metadata": {
        "id": "43_wSLJ4UgxG"
      },
      "source": [
        "***\n",
        "\n",
        "> Explain your uploaded stack diagram here.\n",
        "\n",
        "1. Initiate call to function: koch_fractal(2, 10)\n",
        "  - The function is called with 'n=2' and 'step=10'\n",
        "\n",
        "2. Inside koch_fractal(2, 10):\n",
        "  - The function calls itself recursively four times: one for each segment of the Koch curve\n",
        "  - Each recursive call decreases n by 1\n",
        "3. Stack diagram after the first recursive call (A):\n",
        "  - Turtle moves forward by 10 units. We draw this on the next level down, connected to the initial call\n",
        "\n",
        "4. Stack diagram after the second recursive call (B):\n",
        "  - Turtle turns left by 60 degrees\n",
        "  - Turtle makes another recursive call\n",
        "  - We label this call as E and draw it on the next level down\n",
        "\n",
        "5. Stack diagram after the third recursive call (C):\n",
        "  - Turtle moves forward by 10 units\n",
        "  - We draw this on the next level down, connected to call E\n",
        "\n",
        "6. Stack diagram after the fourth recursive call (D):\n",
        "    - Turtle turns right by 120 degrees\n",
        "    - Turtle makes another recursive call\n",
        "    - We label this call as F and draw it on the next level down\n",
        "\n",
        "7. Stack diagram after the fifth recursive call (E):\n",
        "  - Turtle makes another recursive call\n",
        "  - We label this call as G and draw it on the next level down\n",
        "\n",
        "8. Stack diagram after the sixth recursive call (F):\n",
        "  - Turtle moves forward by 10 units\n",
        "  - We draw this on the next level down, connected to call G\n",
        "\n",
        "9. Stack diagram after the seventh recursive call (G):\n",
        "  - Turtle turns left by 60 degrees\n",
        "  - Turtle makes another recursive call\n",
        "  - We label this call as H and draw it on the next level down\n",
        "\n",
        "10. Stack diagram after the eighth recursive call (H):\n",
        "\n",
        "  - Turtle moves forward by 10 units\n",
        "  - We draw this on the next level down, connected to call H\n",
        "\n",
        "11. Stack diagram after all recursive calls:\n",
        "\n",
        "  - We connect the last call (H) back to call D, completing the stack diagram\n",
        "\n",
        "***"
      ]
    },
    {
      "cell_type": "markdown",
      "metadata": {
        "id": "WG9zMdCjI_fS"
      },
      "source": [
        "### (Optional) Reflections\n",
        "Add a text cell below to answer the following questions:\n",
        "1. What do you feel more confident about after completing this lab?\n",
        "2. What do you feel you can use more help with after completing this lab?\n",
        "3. Do you have any constructive suggestions on how we can help you or improve this lab?"
      ]
    },
    {
      "cell_type": "markdown",
      "metadata": {
        "id": "0KQcA7o9JK7f"
      },
      "source": [
        "### Save your work to GitHub\n",
        "Please save this notebook to your lab repository.\n"
      ]
    }
  ],
  "metadata": {
    "kernelspec": {
      "display_name": "Python 3",
      "language": "python",
      "name": "python3"
    },
    "language_info": {
      "codemirror_mode": {
        "name": "ipython",
        "version": 3
      },
      "file_extension": ".py",
      "mimetype": "text/x-python",
      "name": "python",
      "nbconvert_exporter": "python",
      "pygments_lexer": "ipython3",
      "version": "3.8.5"
    },
    "colab": {
      "provenance": []
    }
  },
  "nbformat": 4,
  "nbformat_minor": 0
}