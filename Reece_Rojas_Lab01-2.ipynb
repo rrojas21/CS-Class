{
  "cells": [
    {
      "cell_type": "markdown",
      "metadata": {
        "id": "0gB0ArQ_zcPu"
      },
      "source": [
        "<a href=\"https://colab.research.google.com/github/LMU-CMSI-1010/lab-notebooks-original/blob/main/Lab01.ipynb\" target=\"_parent\"><img src=\"https://colab.research.google.com/assets/colab-badge.svg\" alt=\"Open In Colab\"/></a>"
      ]
    },
    {
      "cell_type": "markdown",
      "metadata": {
        "id": "9aXfrLXg9seM"
      },
      "source": [
        "# Lab 01 Taking Orders\n",
        "***\n",
        "In this lab you will practice using strings, variables, printing, and getting input from a user.\n",
        "\n",
        "## Greeting your customer\n",
        "**In the following cell, print a statement to greet your customers and ask their names. Save their names in a variable, so you can use it later.**\n",
        "\n"
      ]
    },
    {
      "cell_type": "code",
      "execution_count": null,
      "metadata": {
        "id": "BvyaiHRdlsXj",
        "outputId": "889ef47f-b943-4574-9591-462070e77892",
        "colab": {
          "base_uri": "https://localhost:8080/"
        }
      },
      "outputs": [
        {
          "output_type": "stream",
          "name": "stdout",
          "text": [
            "Hello! What is the name for your order? Reece\n",
            "Reece\n"
          ]
        }
      ],
      "source": [
        "# TODO: Greet your customer and ask for their name\n",
        "greeting = input('Hello! What is the name for your order? ')\n",
        "# TODO: Save their name in a variable\n",
        "name = greeting\n",
        "print(greeting)\n"
      ]
    },
    {
      "cell_type": "markdown",
      "metadata": {
        "id": "LCUmYgcomFGg"
      },
      "source": [
        "## Ask for their order by name\n",
        "**In the following cell repeat the customer’s name and ask for their drink and meal order. Remember to save the drink as a variable and also save the meal as another variable.**\n"
      ]
    },
    {
      "cell_type": "code",
      "execution_count": null,
      "metadata": {
        "id": "5DUZ_9hPmxCi",
        "outputId": "5efe6397-84ac-42eb-b5ed-bfa20583c098",
        "colab": {
          "base_uri": "https://localhost:8080/"
        }
      },
      "outputs": [
        {
          "name": "stdout",
          "output_type": "stream",
          "text": [
            "Hello, Reece what would you like to drink? Coke\n",
            "Hello, Reece what would you like for your meal order? Hamburger \n"
          ]
        }
      ],
      "source": [
        "# TODO: Use the customer's name to ask for drink order\n",
        "drink = input('Hello, ' + name + ' what would you like to drink? ')\n",
        "\n",
        "# TODO: Use the customer's name to ask for meal order\n",
        "full_meal = input('Hello, ' + name + ' what would you like for your meal order? ')\n",
        "\n",
        "\n"
      ]
    },
    {
      "cell_type": "markdown",
      "metadata": {
        "id": "4dODrt9WnO-v"
      },
      "source": [
        "## Repeat their order\n",
        "In the following cell, **thank your customer by name and repeat their order to them. Make sure you use the correct variables when you repeat it.**"
      ]
    },
    {
      "cell_type": "code",
      "execution_count": null,
      "metadata": {
        "id": "ncutxJBKniMh",
        "colab": {
          "base_uri": "https://localhost:8080/"
        },
        "outputId": "912112f4-0418-40bd-f5dc-49f94e8cb79f"
      },
      "outputs": [
        {
          "output_type": "stream",
          "name": "stdout",
          "text": [
            "Thank you Reece\n",
            "Please let me repeat your order for you.\n",
            "I see that you have ordered a Coke and a Hamburger \n"
          ]
        }
      ],
      "source": [
        "# Change this code to make sure that you are using the correct customer name, drink, and meal.\n",
        "# TODO: Replace this comment with code to thank customer by name for their order\n",
        "# e.g. Thank you, Lion.\n",
        "print('Thank you ' + name)\n",
        "print('Please let me repeat your order for you.')\n",
        "# TODO: Replace this comment with code to repeat the drink and the meal\n",
        "# e.g. I see that you have ordered a soda and pizza.\n",
        "print('I see that you have ordered a ' + drink + ' and a ' + full_meal)"
      ]
    },
    {
      "cell_type": "markdown",
      "metadata": {
        "id": "O8oF7J1OmCnQ"
      },
      "source": [
        "## Challenge—figuring out your bill!\n",
        "Since we don’t have a menu in this lab notebook, we don’t know what our meals should cost. We’ll trust the restaurant to tell you how much your total bill is and the percentage of your original bill that will comprise the tip. Tax is always 10% of the original bill. It randomly chooses your total bill and tip percentage for you. Can you use this information to find out what your original bill costs before the tip?"
      ]
    },
    {
      "cell_type": "code",
      "execution_count": null,
      "metadata": {
        "id": "mCuyN8JZqPhI",
        "colab": {
          "base_uri": "https://localhost:8080/"
        },
        "outputId": "0dbac992-bbfa-40d7-ec9a-940d75b6d131"
      },
      "outputs": [
        {
          "output_type": "stream",
          "name": "stdout",
          "text": [
            "Thank you. Your total bill is $13.4. Your tip percentage is 22%. Tax is 10%.\n"
          ]
        }
      ],
      "source": [
        "# The following code is given to you and does not need to be modified\n",
        "import random\n",
        "\n",
        "# We select a random float between 10 and 30 for the total bill\n",
        "total_bill = round(random.uniform(10, 30), 2)\n",
        "\n",
        "# We select a random integer tip percentage amount between 10 and 25\n",
        "tip = random.randint(10, 25)\n",
        "print('Thank you. Your total bill is $' + str(total_bill) + '. Your tip percentage is ' + str(tip) +'%. Tax is 10%.')"
      ]
    },
    {
      "cell_type": "markdown",
      "metadata": {
        "id": "OIWaikgzrzdR"
      },
      "source": [
        "**Edit the following cell to figure out what your original bill was.** We print it, but right now we always print the same value for the original bill"
      ]
    },
    {
      "cell_type": "code",
      "execution_count": null,
      "metadata": {
        "id": "TM3VQOMVtiU4",
        "colab": {
          "base_uri": "https://localhost:8080/"
        },
        "outputId": "38109b75-8a9c-4c55-d151-04e6229eb6a4"
      },
      "outputs": [
        {
          "output_type": "stream",
          "name": "stdout",
          "text": [
            "Your original bill is $1.34.\n"
          ]
        }
      ],
      "source": [
        "# TODO: Change this code below to figure out your original bill. Right now, it is always 10.\n",
        "original_bill = (total_bill * .1)\n",
        "total_bill = original_bill\n",
        "\n",
        "# No need to change below\n",
        "print('Your original bill is $' + str(original_bill) + '.')"
      ]
    },
    {
      "cell_type": "markdown",
      "metadata": {
        "id": "dKL0LYd-E4JB"
      },
      "source": [
        "### (optional) Reflections\n",
        "Add a text cell below to answer the following questions:\n",
        "1. What do you feel more confident about after completing this lab?\n",
        "2. What do you feel you can use more help with after completing this lab?\n",
        "3. Do you have any constructive suggestions on how we can help you or improve this lab?"
      ]
    },
    {
      "cell_type": "markdown",
      "metadata": {
        "id": "gB1aHDpyFYey"
      },
      "source": [
        "### Save your work to GitHub\n",
        "Please save this notebook to your lab repository."
      ]
    },
    {
      "cell_type": "code",
      "execution_count": null,
      "metadata": {
        "id": "1R2zd7SWzcQB"
      },
      "outputs": [],
      "source": []
    }
  ],
  "metadata": {
    "kernelspec": {
      "display_name": "Python 3.10.0 64-bit",
      "language": "python",
      "name": "python3"
    },
    "language_info": {
      "codemirror_mode": {
        "name": "ipython",
        "version": 3
      },
      "file_extension": ".py",
      "mimetype": "text/x-python",
      "name": "python",
      "nbconvert_exporter": "python",
      "pygments_lexer": "ipython3",
      "version": "3.10.0"
    },
    "vscode": {
      "interpreter": {
        "hash": "aee8b7b246df8f9039afb4144a1f6fd8d2ca17a180786b69acc140d282b71a49"
      }
    },
    "colab": {
      "provenance": []
    }
  },
  "nbformat": 4,
  "nbformat_minor": 0
}